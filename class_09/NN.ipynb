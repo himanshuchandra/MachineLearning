{
 "cells": [
  {
   "cell_type": "markdown",
   "metadata": {},
   "source": [
    "# Neural Networks\n",
    "\n",
    "1. Shifting of Vector Space\n",
    "2. Multiple Layers\n",
    "3. Activation functions (sigmoid, tanh)\n",
    "4. Graph like structure\n",
    "5. Softmax as final classifier\n",
    "\n",
    "sigmoid:\n",
    "$$\n",
    "\\sigma(x) = \\frac{1}{1 + e^{-x}}\n",
    "$$\n",
    "\n",
    "softmax:\n",
    "$$\n",
    "softmax(x) = \\frac{e^{x}}{\\sum_i e^{x_i}}\n",
    "$$\n",
    "\n",
    "tanh:\n",
    "$$\n",
    "tanh(x) = \\frac{e^{x} - e^{-x}}{e^{x} + e^{-x}}\n",
    "$$"
   ]
  },
  {
   "cell_type": "code",
   "execution_count": null,
   "metadata": {
    "collapsed": true
   },
   "outputs": [],
   "source": []
  }
 ],
 "metadata": {
  "kernelspec": {
   "display_name": "Python 2",
   "language": "python",
   "name": "python2"
  },
  "language_info": {
   "codemirror_mode": {
    "name": "ipython",
    "version": 2
   },
   "file_extension": ".py",
   "mimetype": "text/x-python",
   "name": "python",
   "nbconvert_exporter": "python",
   "pygments_lexer": "ipython2",
   "version": "2.7.12"
  }
 },
 "nbformat": 4,
 "nbformat_minor": 2
}
