{
 "cells": [
  {
   "cell_type": "code",
   "execution_count": 2,
   "metadata": {
    "collapsed": true
   },
   "outputs": [],
   "source": [
    "import numpy as np\n",
    "import cv2\n",
    "from matplotlib import pyplot as plt\n",
    "%matplotlib inline\n",
    "import os"
   ]
  },
  {
   "cell_type": "code",
   "execution_count": 43,
   "metadata": {
    "collapsed": false
   },
   "outputs": [
    {
     "name": "stdout",
     "output_type": "stream",
     "text": [
      "['./data/shubham/img_02.jpg', './data/shubham/img_01.jpg', './data/person_01/img_02.jpg', './data/person_01/img_01.jpg']\n",
      "['shubham', 'shubham', 'person_01', 'person_01']\n"
     ]
    }
   ],
   "source": [
    "files = os.listdir('./data/')\n",
    "# print files\n",
    "faces_paths = []\n",
    "labels = []\n",
    "\n",
    "for f in files:\n",
    "    ims = os.listdir('./data/' + f)\n",
    "    # print f, ims\n",
    "    for px in ims:\n",
    "        faces_paths.append('./data/' + f + '/' + px)\n",
    "        labels.append(f)\n",
    "\n",
    "print faces_paths\n",
    "print labels"
   ]
  },
  {
   "cell_type": "code",
   "execution_count": 21,
   "metadata": {
    "collapsed": false
   },
   "outputs": [
    {
     "name": "stdout",
     "output_type": "stream",
     "text": [
      "4\n"
     ]
    }
   ],
   "source": [
    "imgs = []\n",
    "\n",
    "for fx in faces_paths:\n",
    "    im = cv2.imread(fx)\n",
    "    im = cv2.cvtColor(im, cv2.COLOR_BGR2RGB)\n",
    "    imgs.append(im)\n",
    "\n",
    "print len(imgs)"
   ]
  },
  {
   "cell_type": "code",
   "execution_count": 23,
   "metadata": {
    "collapsed": false
   },
   "outputs": [],
   "source": [
    "#for ix in range(len(imgs)):\n",
    "#    plt.figure(ix)\n",
    "#    plt.imshow(imgs[ix])\n",
    "#\n",
    "#plt.show()\n",
    "# https://github.com/coding-blocks/Perceptron2017Spring"
   ]
  },
  {
   "cell_type": "code",
   "execution_count": 47,
   "metadata": {
    "collapsed": false
   },
   "outputs": [
    {
     "name": "stdout",
     "output_type": "stream",
     "text": [
      "(550, 380, 3)\n",
      "(100, 100)\n"
     ]
    }
   ],
   "source": [
    "all_faces = []\n",
    "# plt.figure(0)\n",
    "im = imgs[0][200:750, 780:760+400, :]\n",
    "print im.shape\n",
    "\n",
    "img = cv2.resize(im, (100, 100))\n",
    "img = cv2.cvtColor(img, cv2.COLOR_RGB2GRAY)\n",
    "\n",
    "print img.shape\n",
    "# plt.imshow(img, cmap='gray')\n",
    "# plt.show()\n",
    "\n",
    "all_faces.append(img)\n",
    "all_faces.append(img)"
   ]
  },
  {
   "cell_type": "code",
   "execution_count": 50,
   "metadata": {
    "collapsed": false
   },
   "outputs": [
    {
     "name": "stdout",
     "output_type": "stream",
     "text": [
      "2\n",
      "(2, 100, 100)\n"
     ]
    }
   ],
   "source": [
    "print len(all_faces)\n",
    "\n",
    "all_faces = np.asarray(all_faces)\n",
    "print all_faces.shape"
   ]
  },
  {
   "cell_type": "code",
   "execution_count": 55,
   "metadata": {
    "collapsed": false
   },
   "outputs": [
    {
     "name": "stdout",
     "output_type": "stream",
     "text": [
      "(2,)\n"
     ]
    }
   ],
   "source": [
    "lab = np.asarray(labels[:2])\n",
    "print lab.shape\n",
    "\n",
    "np.save('./data/my_face_labels', lab)\n",
    "np.save('./data/my_face_data', all_faces)"
   ]
  },
  {
   "cell_type": "code",
   "execution_count": null,
   "metadata": {
    "collapsed": true
   },
   "outputs": [],
   "source": []
  }
 ],
 "metadata": {
  "kernelspec": {
   "display_name": "Python 2",
   "language": "python",
   "name": "python2"
  },
  "language_info": {
   "codemirror_mode": {
    "name": "ipython",
    "version": 2
   },
   "file_extension": ".py",
   "mimetype": "text/x-python",
   "name": "python",
   "nbconvert_exporter": "python",
   "pygments_lexer": "ipython2",
   "version": "2.7.12"
  }
 },
 "nbformat": 4,
 "nbformat_minor": 2
}
