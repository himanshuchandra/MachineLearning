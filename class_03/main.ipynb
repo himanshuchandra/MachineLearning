{
 "cells": [
  {
   "cell_type": "code",
   "execution_count": 2,
   "metadata": {
    "collapsed": true
   },
   "outputs": [],
   "source": [
    "import numpy as np\n",
    "from matplotlib import pyplot as plt\n",
    "%matplotlib inline"
   ]
  },
  {
   "cell_type": "code",
   "execution_count": 8,
   "metadata": {
    "collapsed": false
   },
   "outputs": [
    {
     "name": "stdout",
     "output_type": "stream",
     "text": [
      "(50, 4096)\n",
      "(50,)\n"
     ]
    }
   ],
   "source": [
    "f = np.load('./faces.npy')\n",
    "f = f[:50, :, :]\n",
    "f = f.reshape((f.shape[0], f.shape[1]*f.shape[2]))\n",
    "print f.shape\n",
    "\n",
    "labels = np.zeros((50,))\n",
    "labels[10:20] = 1\n",
    "labels[20:30] = 2\n",
    "labels[30:40] = 3\n",
    "labels[40:] = 4\n",
    "\n",
    "print labels.shape"
   ]
  },
  {
   "cell_type": "code",
   "execution_count": 9,
   "metadata": {
    "collapsed": false
   },
   "outputs": [],
   "source": [
    "def dist(x1, x2):\n",
    "    return np.sqrt(((x1 - x2)**2).sum())\n",
    "\n",
    "\n",
    "def knn(X_train, x, y_train, k=5):\n",
    "    vals = []\n",
    "    \n",
    "    for ix in range(X_train.shape[0]):\n",
    "        v = [dist(x, X_train[ix, :]), y_train[ix]]\n",
    "        vals.append(v)\n",
    "    \n",
    "    updated_vals = sorted(vals, key=lambda x: x[0])\n",
    "    pred_arr = np.asarray(updated_vals[:k])\n",
    "    pred_arr = np.unique(pred_arr[:, 1], return_counts=True)\n",
    "    pred = pred_arr[1].argmax()\n",
    "    # return pred_arr[0][pred]\n",
    "    return pred_arr, pred_arr[0][pred]"
   ]
  },
  {
   "cell_type": "code",
   "execution_count": 19,
   "metadata": {
    "collapsed": false
   },
   "outputs": [
    {
     "name": "stdout",
     "output_type": "stream",
     "text": [
      "(50, 4096) (4096,)\n",
      "3.0\n"
     ]
    }
   ],
   "source": [
    "X_train = f[:, :]\n",
    "X_test = f[31, :]\n",
    "print X_train.shape, X_test.shape\n",
    "\n",
    "pr = knn(X_train, X_test, labels[:])\n",
    "print pr[1]"
   ]
  },
  {
   "cell_type": "code",
   "execution_count": null,
   "metadata": {
    "collapsed": true
   },
   "outputs": [],
   "source": [
    "a = np.zeros((2, 10, 10))\n",
    "print a.shape\n",
    "b = a[0, :, :]\n",
    "print b.shape"
   ]
  }
 ],
 "metadata": {
  "kernelspec": {
   "display_name": "Python 2",
   "language": "python",
   "name": "python2"
  },
  "language_info": {
   "codemirror_mode": {
    "name": "ipython",
    "version": 2
   },
   "file_extension": ".py",
   "mimetype": "text/x-python",
   "name": "python",
   "nbconvert_exporter": "python",
   "pygments_lexer": "ipython2",
   "version": "2.7.12"
  }
 },
 "nbformat": 4,
 "nbformat_minor": 2
}
